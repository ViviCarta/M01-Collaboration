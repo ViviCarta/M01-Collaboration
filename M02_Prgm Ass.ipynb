{
 "cells": [
  {
   "cell_type": "code",
   "execution_count": 2,
   "metadata": {},
   "outputs": [
    {
     "name": "stdout",
     "output_type": "stream",
     "text": [
      "The number 3 is too low!\n"
     ]
    }
   ],
   "source": [
    "# 4.1\n",
    "\n",
    "# Initialize variables and added a prompt.\n",
    "secret: int = 7\n",
    "guess = int(input(\"Guess the secret number between 1 and 10: \"))\n",
    "\n",
    "# If, elif, and else conditional print statements\n",
    "# that also echoes the user's input.\n",
    "if guess > secret:\n",
    "    print(f\"The number {guess} is too high!\")\n",
    "elif guess < secret:\n",
    "    print(f\"The number {guess} is too low!\")\n",
    "else:\n",
    "    if guess == secret:\n",
    "        print(f\"The number {guess} is just right.\")\n"
   ]
  },
  {
   "cell_type": "code",
   "execution_count": 11,
   "metadata": {},
   "outputs": [
    {
     "name": "stdout",
     "output_type": "stream",
     "text": [
      "Watermelon is a fruit that is green but not small.\n",
      "Pumpkin is a fruit that is neither small nor green.\n",
      "Cherry is a fruit that is small but not green.\n",
      "Pea is a fruit that is both small and green.\n"
     ]
    }
   ],
   "source": [
    "# 4.2\n",
    "\"\"\"Author's Note: Created different variations\n",
    "for each variable to illustrate various True/False scenarios.\"\"\"\n",
    "\n",
    "# Assign True/False to the following variables\n",
    "# First variation\n",
    "small: bool = False\n",
    "green: bool = True\n",
    "\n",
    "# If/else print statements matching the choices\n",
    "if small:\n",
    "    if green:\n",
    "        print(\"Pea is a fruit that is both small and green.\")\n",
    "    else:\n",
    "        print(\"Cherry is a fruit that is small but not green.\")\n",
    "else:\n",
    "    if green:\n",
    "        print(\"Watermelon is a fruit that is green but not small.\")\n",
    "    else:\n",
    "        print(\"Pumpkin is a fruit that is neither small nor green.\")\n",
    "        \n",
    "# Second variation\n",
    "small: bool = False\n",
    "green: bool = False\n",
    "\n",
    "# If/else print statements matching the choices\n",
    "if small:\n",
    "    if green:\n",
    "        print(\"Pea is a fruit that is both small and green.\")\n",
    "    else:\n",
    "        print(\"Cherry is a fruit that is small but not green.\")\n",
    "else:\n",
    "    if green:\n",
    "        print(\"Watermelon is a fruit that is green but not small.\")\n",
    "    else:\n",
    "        print(\"Pumpkin is a fruit that is neither small nor green.\")\n",
    "        \n",
    "# Third variation\n",
    "small: bool = True\n",
    "green: bool = False\n",
    "\n",
    "# If/else print statements matching the choices\n",
    "if small:\n",
    "    if green:\n",
    "        print(\"Pea is a fruit that is both small and green.\")\n",
    "    else:\n",
    "        print(\"Cherry is a fruit that is small but not green.\")\n",
    "else:\n",
    "    if green:\n",
    "        print(\"Watermelon is a fruit that is green but not small.\")\n",
    "    else:\n",
    "        print(\"Pumpkin is a fruit that is neither small nor green.\")\n",
    "        \n",
    "# Fourth variation\n",
    "small: bool = True\n",
    "green: bool = True\n",
    "\n",
    "# If/else print statements matching the choices\n",
    "if small:\n",
    "    if green:\n",
    "        print(\"Pea is a fruit that is both small and green.\")\n",
    "    else:\n",
    "        print(\"Cherry is a fruit that is small but not green.\")\n",
    "else:\n",
    "    if green:\n",
    "        print(\"Watermelon is a fruit that is green but not small.\")\n",
    "    else:\n",
    "        print(\"Pumpkin is a fruit that is neither small nor green.\")"
   ]
  },
  {
   "cell_type": "code",
   "execution_count": 12,
   "metadata": {},
   "outputs": [
    {
     "name": "stdout",
     "output_type": "stream",
     "text": [
      "3\n",
      "2\n",
      "1\n",
      "0\n"
     ]
    }
   ],
   "source": [
    "# 6.1\n",
    "\n",
    "# Initialize a list\n",
    "num_list: list = [3, 2, 1, 0]\n",
    "\n",
    "# For loop to output values in the list\n",
    "for i in num_list:\n",
    "    print(i)"
   ]
  },
  {
   "cell_type": "code",
   "execution_count": 14,
   "metadata": {},
   "outputs": [
    {
     "name": "stdout",
     "output_type": "stream",
     "text": [
      "Too low\n",
      "Too low\n",
      "Too low\n",
      "Too low\n",
      "Too low\n",
      "Too low\n",
      "Found it!\n"
     ]
    }
   ],
   "source": [
    "# 6.2\n",
    "\"\"\"Author's Note: This program doesn't include a prompt \n",
    "for the user as it STRICTLY follows the textbook's instructions.\"\"\"\n",
    "\n",
    "# Initialize variables\n",
    "guess_me: int = 7\n",
    "number: int = 1\n",
    "\n",
    "# While loop with conditional statements \n",
    "# that outputs corresponding print statements.\n",
    "while True:\n",
    "    if number < guess_me:\n",
    "        print(f\"Too low\")\n",
    "    elif number == guess_me:\n",
    "        print(\"Found it!\")\n",
    "        break\n",
    "    else:\n",
    "        if number > guess_me:\n",
    "            print(\"Oops\")\n",
    "            break\n",
    "    # Increment number at the end of the loop\n",
    "    number += 1"
   ]
  },
  {
   "cell_type": "code",
   "execution_count": 15,
   "metadata": {},
   "outputs": [
    {
     "name": "stdout",
     "output_type": "stream",
     "text": [
      "Too low\n",
      "Too low\n",
      "Too low\n",
      "Too low\n",
      "Too low\n",
      "Found it!\n"
     ]
    }
   ],
   "source": [
    "# 6.3\n",
    "\"\"\"Author's Note: This program doesn't include a prompt \n",
    "for the user as it STRICTLY follows the textbook's instructions.\"\"\"\n",
    "\n",
    "# Initialize variables\n",
    "guess_me: int = 5\n",
    "\n",
    "# For loop to iterate 'number' over a specific range\n",
    "for number in range(10):\n",
    "    if number < guess_me:\n",
    "        print(f\"Too low\")\n",
    "    elif number == guess_me:\n",
    "        print(\"Found it!\")\n",
    "        break\n",
    "    else:\n",
    "        if number > guess_me:\n",
    "            print(\"Oops\")\n",
    "            break"
   ]
  }
 ],
 "metadata": {
  "kernelspec": {
   "display_name": "Python 3 (ipykernel)",
   "language": "python",
   "name": "python3"
  },
  "language_info": {
   "codemirror_mode": {
    "name": "ipython",
    "version": 3
   },
   "file_extension": ".py",
   "mimetype": "text/x-python",
   "name": "python",
   "nbconvert_exporter": "python",
   "pygments_lexer": "ipython3",
   "version": "3.11.5"
  }
 },
 "nbformat": 4,
 "nbformat_minor": 2
}
