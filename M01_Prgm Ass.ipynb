{
 "cells": [
  {
   "cell_type": "code",
   "execution_count": 1,
   "metadata": {},
   "outputs": [
    {
     "name": "stdout",
     "output_type": "stream",
     "text": [
      "How many seconds are in an hour? 3600\n"
     ]
    }
   ],
   "source": [
    "# 3.1 - 3.2\n",
    "num_seconds_in_minutes: int = 60\n",
    "num_minutes_in_hour: int = 60\n",
    "seconds_per_hour = num_seconds_in_minutes * num_minutes_in_hour\n",
    "print(\"How many seconds are in an hour?\", seconds_per_hour)"
   ]
  },
  {
   "cell_type": "code",
   "execution_count": 3,
   "metadata": {},
   "outputs": [
    {
     "name": "stdout",
     "output_type": "stream",
     "text": [
      "How many seconds are in a day? 86400\n"
     ]
    }
   ],
   "source": [
    "# 3.3 - 3.4\n",
    "num_hours_in_day: int = 24\n",
    "seconds_per_day = seconds_per_hour * num_hours_in_day\n",
    "print(\"How many seconds are in a day?\", seconds_per_day)"
   ]
  },
  {
   "cell_type": "code",
   "execution_count": 4,
   "metadata": {},
   "outputs": [
    {
     "data": {
      "text/plain": [
       "24.0"
      ]
     },
     "execution_count": 4,
     "metadata": {},
     "output_type": "execute_result"
    }
   ],
   "source": [
    "# 3.5 (Floating-point Division)\n",
    "seconds_per_day/seconds_per_hour"
   ]
  },
  {
   "cell_type": "code",
   "execution_count": 5,
   "metadata": {},
   "outputs": [
    {
     "data": {
      "text/plain": [
       "24"
      ]
     },
     "execution_count": 5,
     "metadata": {},
     "output_type": "execute_result"
    }
   ],
   "source": [
    "# 3.6 (Integer Division)\n",
    "seconds_per_day//seconds_per_hour"
   ]
  }
 ],
 "metadata": {
  "kernelspec": {
   "display_name": "Python 3 (ipykernel)",
   "language": "python",
   "name": "python3"
  }
 },
 "nbformat": 4,
 "nbformat_minor": 2
}
