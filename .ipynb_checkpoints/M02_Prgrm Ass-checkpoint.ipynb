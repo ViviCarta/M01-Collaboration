{
 "cells": [
  {
   "cell_type": "code",
   "execution_count": null,
   "metadata": {},
   "outputs": [],
   "source": [
    "# 4.1\n",
    "\n",
    "# Initialize variables\n",
    "secret: int = 7\n",
    "guess: int(input(\"Enter a number between 1 and 10: \"))\n",
    "\n",
    "# If, elif, and else conditional print statements\n",
    "if guess > secret:\n",
    "    print(\"Your guess is too high!\")\n",
    "elif guess < secret:\n",
    "    print(\"Your guess is too low!\")\n",
    "else:\n",
    "    if guess == secret:\n",
    "        print(\"Your guess is just right.\")\n",
    "\n"
   ]
  }
 ],
 "metadata": {
  "kernelspec": {
   "display_name": "Python 3 (ipykernel)",
   "language": "python",
   "name": "python3"
  },
  "language_info": {
   "codemirror_mode": {
    "name": "ipython",
    "version": 3
   },
   "file_extension": ".py",
   "mimetype": "text/x-python",
   "name": "python",
   "nbconvert_exporter": "python",
   "pygments_lexer": "ipython3",
   "version": "3.11.5"
  }
 },
 "nbformat": 4,
 "nbformat_minor": 2
}
